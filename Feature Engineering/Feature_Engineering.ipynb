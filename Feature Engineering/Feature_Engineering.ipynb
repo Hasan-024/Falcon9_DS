{
 "cells": [
  {
   "cell_type": "markdown",
   "metadata": {},
   "source": [
    "# Target : Feature Engineering\n",
    "#### Select necessary features such as <code> Categorical, Numerical, Boolean variables </code> and drop redundant variables for further Machine Learning Application "
   ]
  },
  {
   "cell_type": "code",
   "execution_count": 1,
   "metadata": {},
   "outputs": [],
   "source": [
    "import numpy as np\n",
    "import pandas as pd\n",
    "import matplotlib.pyplot as plt\n",
    "%matplotlib inline\n",
    "\n",
    "import scipy\n",
    "from scipy.stats import chi2_contingency"
   ]
  },
  {
   "cell_type": "code",
   "execution_count": 2,
   "metadata": {},
   "outputs": [
    {
     "data": {
      "text/html": [
       "<div>\n",
       "<style scoped>\n",
       "    .dataframe tbody tr th:only-of-type {\n",
       "        vertical-align: middle;\n",
       "    }\n",
       "\n",
       "    .dataframe tbody tr th {\n",
       "        vertical-align: top;\n",
       "    }\n",
       "\n",
       "    .dataframe thead th {\n",
       "        text-align: right;\n",
       "    }\n",
       "</style>\n",
       "<table border=\"1\" class=\"dataframe\">\n",
       "  <thead>\n",
       "    <tr style=\"text-align: right;\">\n",
       "      <th></th>\n",
       "      <th>FlightNumber</th>\n",
       "      <th>Date</th>\n",
       "      <th>BoosterVersion</th>\n",
       "      <th>PayloadMass</th>\n",
       "      <th>Orbit</th>\n",
       "      <th>LaunchSite</th>\n",
       "      <th>Flights</th>\n",
       "      <th>GridFins</th>\n",
       "      <th>Reused</th>\n",
       "      <th>Legs</th>\n",
       "      <th>LandingPad</th>\n",
       "      <th>Block</th>\n",
       "      <th>ReusedCount</th>\n",
       "      <th>Serial</th>\n",
       "      <th>Longitude</th>\n",
       "      <th>Latitude</th>\n",
       "      <th>Landing_Outcome</th>\n",
       "      <th>Landing_Region</th>\n",
       "    </tr>\n",
       "  </thead>\n",
       "  <tbody>\n",
       "    <tr>\n",
       "      <th>0</th>\n",
       "      <td>1</td>\n",
       "      <td>2010-06-04</td>\n",
       "      <td>Falcon 9</td>\n",
       "      <td>6123.547647</td>\n",
       "      <td>LEO</td>\n",
       "      <td>CCSFS SLC 40</td>\n",
       "      <td>1</td>\n",
       "      <td>False</td>\n",
       "      <td>False</td>\n",
       "      <td>False</td>\n",
       "      <td>NaN</td>\n",
       "      <td>1</td>\n",
       "      <td>0</td>\n",
       "      <td>B0003</td>\n",
       "      <td>-80.577366</td>\n",
       "      <td>28.561857</td>\n",
       "      <td>0</td>\n",
       "      <td>None</td>\n",
       "    </tr>\n",
       "    <tr>\n",
       "      <th>1</th>\n",
       "      <td>2</td>\n",
       "      <td>2012-05-22</td>\n",
       "      <td>Falcon 9</td>\n",
       "      <td>525.000000</td>\n",
       "      <td>LEO</td>\n",
       "      <td>CCSFS SLC 40</td>\n",
       "      <td>1</td>\n",
       "      <td>False</td>\n",
       "      <td>False</td>\n",
       "      <td>False</td>\n",
       "      <td>NaN</td>\n",
       "      <td>1</td>\n",
       "      <td>0</td>\n",
       "      <td>B0005</td>\n",
       "      <td>-80.577366</td>\n",
       "      <td>28.561857</td>\n",
       "      <td>0</td>\n",
       "      <td>None</td>\n",
       "    </tr>\n",
       "    <tr>\n",
       "      <th>2</th>\n",
       "      <td>3</td>\n",
       "      <td>2013-03-01</td>\n",
       "      <td>Falcon 9</td>\n",
       "      <td>677.000000</td>\n",
       "      <td>ISS</td>\n",
       "      <td>CCSFS SLC 40</td>\n",
       "      <td>1</td>\n",
       "      <td>False</td>\n",
       "      <td>False</td>\n",
       "      <td>False</td>\n",
       "      <td>NaN</td>\n",
       "      <td>1</td>\n",
       "      <td>0</td>\n",
       "      <td>B0007</td>\n",
       "      <td>-80.577366</td>\n",
       "      <td>28.561857</td>\n",
       "      <td>0</td>\n",
       "      <td>None</td>\n",
       "    </tr>\n",
       "    <tr>\n",
       "      <th>3</th>\n",
       "      <td>4</td>\n",
       "      <td>2013-09-29</td>\n",
       "      <td>Falcon 9</td>\n",
       "      <td>500.000000</td>\n",
       "      <td>PO</td>\n",
       "      <td>VAFB SLC 4E</td>\n",
       "      <td>1</td>\n",
       "      <td>False</td>\n",
       "      <td>False</td>\n",
       "      <td>False</td>\n",
       "      <td>NaN</td>\n",
       "      <td>1</td>\n",
       "      <td>0</td>\n",
       "      <td>B1003</td>\n",
       "      <td>-120.610829</td>\n",
       "      <td>34.632093</td>\n",
       "      <td>0</td>\n",
       "      <td>Ocean</td>\n",
       "    </tr>\n",
       "    <tr>\n",
       "      <th>4</th>\n",
       "      <td>5</td>\n",
       "      <td>2013-12-03</td>\n",
       "      <td>Falcon 9</td>\n",
       "      <td>3170.000000</td>\n",
       "      <td>GTO</td>\n",
       "      <td>CCSFS SLC 40</td>\n",
       "      <td>1</td>\n",
       "      <td>False</td>\n",
       "      <td>False</td>\n",
       "      <td>False</td>\n",
       "      <td>NaN</td>\n",
       "      <td>1</td>\n",
       "      <td>0</td>\n",
       "      <td>B1004</td>\n",
       "      <td>-80.577366</td>\n",
       "      <td>28.561857</td>\n",
       "      <td>0</td>\n",
       "      <td>None</td>\n",
       "    </tr>\n",
       "  </tbody>\n",
       "</table>\n",
       "</div>"
      ],
      "text/plain": [
       "   FlightNumber       Date BoosterVersion  PayloadMass Orbit    LaunchSite  \\\n",
       "0             1 2010-06-04       Falcon 9  6123.547647   LEO  CCSFS SLC 40   \n",
       "1             2 2012-05-22       Falcon 9   525.000000   LEO  CCSFS SLC 40   \n",
       "2             3 2013-03-01       Falcon 9   677.000000   ISS  CCSFS SLC 40   \n",
       "3             4 2013-09-29       Falcon 9   500.000000    PO   VAFB SLC 4E   \n",
       "4             5 2013-12-03       Falcon 9  3170.000000   GTO  CCSFS SLC 40   \n",
       "\n",
       "   Flights  GridFins  Reused   Legs LandingPad  Block  ReusedCount Serial  \\\n",
       "0        1     False   False  False        NaN      1            0  B0003   \n",
       "1        1     False   False  False        NaN      1            0  B0005   \n",
       "2        1     False   False  False        NaN      1            0  B0007   \n",
       "3        1     False   False  False        NaN      1            0  B1003   \n",
       "4        1     False   False  False        NaN      1            0  B1004   \n",
       "\n",
       "    Longitude   Latitude  Landing_Outcome Landing_Region  \n",
       "0  -80.577366  28.561857                0           None  \n",
       "1  -80.577366  28.561857                0           None  \n",
       "2  -80.577366  28.561857                0           None  \n",
       "3 -120.610829  34.632093                0          Ocean  \n",
       "4  -80.577366  28.561857                0           None  "
      ]
     },
     "execution_count": 2,
     "metadata": {},
     "output_type": "execute_result"
    }
   ],
   "source": [
    "df = pd.read_csv(\"E:\\DS_ML_Projects_VS\\Applied_DS_Captsone\\Feature Engineering\\Wrangled_data.csv\")\n",
    "df.drop(['Outcome'], axis=1, inplace=True)\n",
    "df[\"Date\"] = pd.to_datetime(df[\"Date\"])\n",
    "df.head()"
   ]
  },
  {
   "cell_type": "code",
   "execution_count": 3,
   "metadata": {},
   "outputs": [
    {
     "data": {
      "text/plain": [
       "FlightNumber                int64\n",
       "Date               datetime64[ns]\n",
       "BoosterVersion             object\n",
       "PayloadMass               float64\n",
       "Orbit                      object\n",
       "LaunchSite                 object\n",
       "Flights                     int64\n",
       "GridFins                     bool\n",
       "Reused                       bool\n",
       "Legs                         bool\n",
       "LandingPad                 object\n",
       "Block                       int64\n",
       "ReusedCount                 int64\n",
       "Serial                     object\n",
       "Longitude                 float64\n",
       "Latitude                  float64\n",
       "Landing_Outcome             int64\n",
       "Landing_Region             object\n",
       "dtype: object"
      ]
     },
     "execution_count": 3,
     "metadata": {},
     "output_type": "execute_result"
    }
   ],
   "source": [
    "df.dtypes"
   ]
  },
  {
   "cell_type": "markdown",
   "metadata": {},
   "source": [
    "#### Let's drop the redundant variables at first"
   ]
  },
  {
   "cell_type": "code",
   "execution_count": 4,
   "metadata": {},
   "outputs": [],
   "source": [
    "df.drop(['Date','BoosterVersion','Flights','Serial','Longitude','Latitude'], axis=1, inplace=True)"
   ]
  },
  {
   "cell_type": "markdown",
   "metadata": {},
   "source": [
    "Let's change the Landing Pads specific name instead of a serial number!"
   ]
  },
  {
   "cell_type": "code",
   "execution_count": 5,
   "metadata": {},
   "outputs": [
    {
     "data": {
      "text/plain": [
       "FlightNumber        0\n",
       "PayloadMass         0\n",
       "Orbit               0\n",
       "LaunchSite          0\n",
       "GridFins            0\n",
       "Reused              0\n",
       "Legs                0\n",
       "LandingPad         26\n",
       "Block               0\n",
       "ReusedCount         0\n",
       "Landing_Outcome     0\n",
       "Landing_Region      0\n",
       "dtype: int64"
      ]
     },
     "execution_count": 5,
     "metadata": {},
     "output_type": "execute_result"
    }
   ],
   "source": [
    "df.isnull().sum()"
   ]
  },
  {
   "cell_type": "code",
   "execution_count": 6,
   "metadata": {},
   "outputs": [],
   "source": [
    "df['LandingPad'].fillna('None', inplace=True)"
   ]
  },
  {
   "cell_type": "code",
   "execution_count": 7,
   "metadata": {},
   "outputs": [
    {
     "data": {
      "text/plain": [
       "5e9e3032383ecb6bb234e7ca    35\n",
       "None                        26\n",
       "5e9e3032383ecb267a34e7c7    13\n",
       "5e9e3033383ecbb9e534e7cc    12\n",
       "5e9e3032383ecb761634e7cb     2\n",
       "5e9e3032383ecb554034e7c9     2\n",
       "Name: LandingPad, dtype: int64"
      ]
     },
     "execution_count": 7,
     "metadata": {},
     "output_type": "execute_result"
    }
   ],
   "source": [
    "df['LandingPad'].value_counts()"
   ]
  },
  {
   "cell_type": "code",
   "execution_count": 8,
   "metadata": {},
   "outputs": [
    {
     "data": {
      "text/plain": [
       "array(['None', '5e9e3032383ecb761634e7cb', '5e9e3032383ecb6bb234e7ca',\n",
       "       '5e9e3032383ecb267a34e7c7', '5e9e3033383ecbb9e534e7cc',\n",
       "       '5e9e3032383ecb554034e7c9'], dtype=object)"
      ]
     },
     "execution_count": 8,
     "metadata": {},
     "output_type": "execute_result"
    }
   ],
   "source": [
    "df[\"LandingPad\"].unique()\n"
   ]
  },
  {
   "cell_type": "code",
   "execution_count": 9,
   "metadata": {},
   "outputs": [],
   "source": [
    "LandingPadno = 0\n",
    "for padid in df[\"LandingPad\"].unique():\n",
    "    if padid == \"None\":\n",
    "        df[\"LandingPad\"].replace(\"None\", \"NoLandingPad\", inplace=True)\n",
    "    else:\n",
    "        df[\"LandingPad\"].replace(padid, f\"LandingPad{LandingPadno}\", inplace=True)\n",
    "        \n",
    "    LandingPadno += 1\n",
    "del LandingPadno"
   ]
  },
  {
   "cell_type": "code",
   "execution_count": 10,
   "metadata": {},
   "outputs": [
    {
     "data": {
      "text/plain": [
       "LandingPad2     35\n",
       "NoLandingPad    26\n",
       "LandingPad3     13\n",
       "LandingPad4     12\n",
       "LandingPad1      2\n",
       "LandingPad5      2\n",
       "Name: LandingPad, dtype: int64"
      ]
     },
     "execution_count": 10,
     "metadata": {},
     "output_type": "execute_result"
    }
   ],
   "source": [
    "df['LandingPad'].value_counts()"
   ]
  },
  {
   "cell_type": "code",
   "execution_count": 11,
   "metadata": {},
   "outputs": [
    {
     "data": {
      "text/html": [
       "<div>\n",
       "<style scoped>\n",
       "    .dataframe tbody tr th:only-of-type {\n",
       "        vertical-align: middle;\n",
       "    }\n",
       "\n",
       "    .dataframe tbody tr th {\n",
       "        vertical-align: top;\n",
       "    }\n",
       "\n",
       "    .dataframe thead th {\n",
       "        text-align: right;\n",
       "    }\n",
       "</style>\n",
       "<table border=\"1\" class=\"dataframe\">\n",
       "  <thead>\n",
       "    <tr style=\"text-align: right;\">\n",
       "      <th></th>\n",
       "      <th>FlightNumber</th>\n",
       "      <th>PayloadMass</th>\n",
       "      <th>Orbit</th>\n",
       "      <th>LaunchSite</th>\n",
       "      <th>GridFins</th>\n",
       "      <th>Reused</th>\n",
       "      <th>Legs</th>\n",
       "      <th>LandingPad</th>\n",
       "      <th>Block</th>\n",
       "      <th>ReusedCount</th>\n",
       "      <th>Landing_Outcome</th>\n",
       "      <th>Landing_Region</th>\n",
       "    </tr>\n",
       "  </thead>\n",
       "  <tbody>\n",
       "    <tr>\n",
       "      <th>0</th>\n",
       "      <td>1</td>\n",
       "      <td>6123.547647</td>\n",
       "      <td>LEO</td>\n",
       "      <td>CCSFS SLC 40</td>\n",
       "      <td>False</td>\n",
       "      <td>False</td>\n",
       "      <td>False</td>\n",
       "      <td>NoLandingPad</td>\n",
       "      <td>1</td>\n",
       "      <td>0</td>\n",
       "      <td>0</td>\n",
       "      <td>None</td>\n",
       "    </tr>\n",
       "    <tr>\n",
       "      <th>1</th>\n",
       "      <td>2</td>\n",
       "      <td>525.000000</td>\n",
       "      <td>LEO</td>\n",
       "      <td>CCSFS SLC 40</td>\n",
       "      <td>False</td>\n",
       "      <td>False</td>\n",
       "      <td>False</td>\n",
       "      <td>NoLandingPad</td>\n",
       "      <td>1</td>\n",
       "      <td>0</td>\n",
       "      <td>0</td>\n",
       "      <td>None</td>\n",
       "    </tr>\n",
       "    <tr>\n",
       "      <th>2</th>\n",
       "      <td>3</td>\n",
       "      <td>677.000000</td>\n",
       "      <td>ISS</td>\n",
       "      <td>CCSFS SLC 40</td>\n",
       "      <td>False</td>\n",
       "      <td>False</td>\n",
       "      <td>False</td>\n",
       "      <td>NoLandingPad</td>\n",
       "      <td>1</td>\n",
       "      <td>0</td>\n",
       "      <td>0</td>\n",
       "      <td>None</td>\n",
       "    </tr>\n",
       "    <tr>\n",
       "      <th>3</th>\n",
       "      <td>4</td>\n",
       "      <td>500.000000</td>\n",
       "      <td>PO</td>\n",
       "      <td>VAFB SLC 4E</td>\n",
       "      <td>False</td>\n",
       "      <td>False</td>\n",
       "      <td>False</td>\n",
       "      <td>NoLandingPad</td>\n",
       "      <td>1</td>\n",
       "      <td>0</td>\n",
       "      <td>0</td>\n",
       "      <td>Ocean</td>\n",
       "    </tr>\n",
       "    <tr>\n",
       "      <th>4</th>\n",
       "      <td>5</td>\n",
       "      <td>3170.000000</td>\n",
       "      <td>GTO</td>\n",
       "      <td>CCSFS SLC 40</td>\n",
       "      <td>False</td>\n",
       "      <td>False</td>\n",
       "      <td>False</td>\n",
       "      <td>NoLandingPad</td>\n",
       "      <td>1</td>\n",
       "      <td>0</td>\n",
       "      <td>0</td>\n",
       "      <td>None</td>\n",
       "    </tr>\n",
       "  </tbody>\n",
       "</table>\n",
       "</div>"
      ],
      "text/plain": [
       "   FlightNumber  PayloadMass Orbit    LaunchSite  GridFins  Reused   Legs  \\\n",
       "0             1  6123.547647   LEO  CCSFS SLC 40     False   False  False   \n",
       "1             2   525.000000   LEO  CCSFS SLC 40     False   False  False   \n",
       "2             3   677.000000   ISS  CCSFS SLC 40     False   False  False   \n",
       "3             4   500.000000    PO   VAFB SLC 4E     False   False  False   \n",
       "4             5  3170.000000   GTO  CCSFS SLC 40     False   False  False   \n",
       "\n",
       "     LandingPad  Block  ReusedCount  Landing_Outcome Landing_Region  \n",
       "0  NoLandingPad      1            0                0           None  \n",
       "1  NoLandingPad      1            0                0           None  \n",
       "2  NoLandingPad      1            0                0           None  \n",
       "3  NoLandingPad      1            0                0          Ocean  \n",
       "4  NoLandingPad      1            0                0           None  "
      ]
     },
     "execution_count": 11,
     "metadata": {},
     "output_type": "execute_result"
    }
   ],
   "source": [
    "df.head()"
   ]
  },
  {
   "cell_type": "markdown",
   "metadata": {},
   "source": [
    "#### To determine the correlation between the categorical variables We will be using <code> Chi-squared Contingency Test </code>"
   ]
  },
  {
   "cell_type": "markdown",
   "metadata": {},
   "source": [
    "**Why Chi-squared Test?**\n",
    "Because it's a classification problem with multiple categorical features and it is appropriate to use the Chi Square method for feature selection.\n",
    "\n",
    "*Procedure:*\n",
    "   Use **plot_chisquare_hmap** function to produce a heatmap of p-values obtain by applying Chi Square on categorical features and target. \n",
    "\n",
    "*Results:*\n",
    "   A p-value lower than 0.05 >>>> there exists a relationship between two variables\n",
    "   Otherwise, the two variables are considered independent.\n",
    "\n",
    "One of the condition to use Chi Squared is that the expected frequencies should be at least 5 for the majority (80%) of the cells. When this condition is not satisfied, plot_chisquare_heatmap sets the p-value to 2 thus indicating that the two variables could be used"
   ]
  },
  {
   "cell_type": "code",
   "execution_count": 12,
   "metadata": {},
   "outputs": [],
   "source": [
    "from scipy.stats import chi2_contingency\n",
    "from scipy.stats import pearsonr\n",
    "import seaborn as sns"
   ]
  },
  {
   "cell_type": "code",
   "execution_count": 13,
   "metadata": {},
   "outputs": [],
   "source": [
    "#c_tab = pd.crosstab(df['LaunchSite'],df['LandingPad'])  # Build contigency table\n",
    "#c ,p, dof, expected = chi2_contingency(c_tab) \n",
    "#c, p, dof\n",
    "#expected, #expected.size"
   ]
  },
  {
   "cell_type": "code",
   "execution_count": 14,
   "metadata": {},
   "outputs": [],
   "source": [
    "def plot_chisquare_hmap(df, column_names, target, figsize=(12,6)):\n",
    "    column_names.append(target)\n",
    "    n_cols = len(column_names)\n",
    "    chisquare_df = pd.DataFrame(np.zeros((n_cols,n_cols)), columns = column_names, index =column_names)\n",
    "    i=0\n",
    "    j=0\n",
    "    for icol in column_names:\n",
    "        for jcol in column_names:\n",
    "            contingency_tab = pd.crosstab(df[icol],df[jcol])  # Build contigency table\n",
    "            c ,p, dof, expected = chi2_contingency(contingency_tab) # Get stats along with p-value\n",
    "            chisquare_df.iloc[i,j] = round(p, 5)  # Automatically round down very small p values to zero\n",
    "            #A condition to use Chi Square is that the expected frequencies should be atleast 5 for the majority (80%) of the cells \n",
    "            expected_percentage =  100 * expected[expected >= 5].size / expected.size # Get % of cells with frequency of at least 5\n",
    "            if icol == jcol:\n",
    "                chisquare_df.iloc[i,j] = 0.0\n",
    "            # If the expected frequency is less than 5 for the (20%), we ignore the p-value between the two variables.\n",
    "            # We set the p-value to 5 in order to better visualize this case\n",
    "            # We will then keep both variables.\n",
    "            if expected_percentage < 20:\n",
    "                chisquare_df.iloc[i,j] = 5\n",
    "            else:\n",
    "                chisquare_df.iloc[i,j] = round(p, 5)\n",
    "            j = j+1\n",
    "        i = i+1\n",
    "        j=0\n",
    "\n",
    "    _, ax = plt.subplots(figsize=figsize)\n",
    "    sns.heatmap(chisquare_df, annot=True, ax=ax)\n",
    "    #ax.set_xticklabels(labels=cols, rotation=90)\n",
    "    #ax.set_yticklabels(labels=cols, rotation=0)\n",
    "    ax.set_title(\"Chi Squared p-values\", fontsize=14)\n",
    "    plt.show()"
   ]
  },
  {
   "cell_type": "code",
   "execution_count": 15,
   "metadata": {},
   "outputs": [],
   "source": [
    "def plot_corr_hmap(df, column_names, target, figsize=(14,6)):\n",
    "    column_names.append(target)\n",
    "    n_cols = len(column_names)\n",
    "    corr_matrix = pd.DataFrame(np.zeros((n_cols, n_cols)), columns=column_names, index=column_names)\n",
    "    pvalue_matrix = pd.DataFrame(np.zeros((n_cols, n_cols)), columns=column_names, index=column_names)\n",
    "    i = 0\n",
    "    j = 0\n",
    "    for icol in column_names:\n",
    "        for jcol in column_names:\n",
    "            corr, p = pearsonr(df[icol], df[jcol])\n",
    "            corr_matrix.iloc[i,j] = round(corr, 5)\n",
    "            pvalue_matrix.iloc[i,j] = round(p, 5) # Round down very low p-values to 0\n",
    "            j = j + 1\n",
    "        i = i + 1\n",
    "        j = 0\n",
    "\n",
    "    _, ax = plt.subplots(figsize=figsize, ncols=2, nrows=1)\n",
    "\n",
    "    # Plot correlation matrix\n",
    "    sns.heatmap(corr_matrix, annot=True, ax=ax[0])\n",
    "    ax[0].set_title(\"Correlation Matrix\", fontsize=14)\n",
    "    ax[0].set_xticklabels(column_names, rotation=45)\n",
    "    ax[0].set_yticklabels(column_names, rotation=45)\n",
    "    \n",
    "    # Plot p-values matrix\n",
    "    sns.heatmap(pvalue_matrix, annot=True, ax=ax[1])\n",
    "    ax[1].set_title(\"p-values Matrix\", fontsize=14)\n",
    "    ax[1].set_xticklabels(column_names, rotation=45)\n",
    "    ax[1].set_yticklabels(column_names, rotation=45)\n",
    "    plt.show()"
   ]
  },
  {
   "cell_type": "markdown",
   "metadata": {},
   "source": [
    "### Now, Lets visualize the test results through heat map"
   ]
  },
  {
   "cell_type": "markdown",
   "metadata": {},
   "source": [
    "**Chi-Sqaured Test Heatmap with p values**"
   ]
  },
  {
   "cell_type": "markdown",
   "metadata": {},
   "source": [
    "Categorical Columns:\n",
    "1. Orbit 2. LaunchSite 3. LandingPad 4. LandingRegion"
   ]
  },
  {
   "cell_type": "code",
   "execution_count": 16,
   "metadata": {},
   "outputs": [
    {
     "data": {
      "image/png": "[encoded data removed]",
      "text/plain": [
       "<Figure size 1200x600 with 2 Axes>"
      ]
     },
     "metadata": {},
     "output_type": "display_data"
    }
   ],
   "source": [
    "categories = [\"Orbit\", \"LaunchSite\", \"LandingPad\", \"Landing_Region\"]\n",
    "\n",
    "plot_chisquare_hmap(df, column_names = categories, target = 'Landing_Outcome')"
   ]
  },
  {
   "cell_type": "markdown",
   "metadata": {},
   "source": [
    "Orbit and LaunchSite do not have statistically significant correlation with the target variable (0.34 , 0.24). These two variables are also independent from each other.\n",
    "\n",
    "Landing Pad and Landing_Region have significant correlation with the target Landing_Outcome and also with each other. \n",
    "As Landing_Region has stronger relation with the target, we should keep this as a important feature.\n",
    "\n",
    "LaunchSite has correlation with Landing Pad but independent from Landing_Region. So, we can drop LaunchSite and keep LandingPad \n",
    "\n",
    "Orbit is independent from every other variable."
   ]
  },
  {
   "cell_type": "code",
   "execution_count": 17,
   "metadata": {},
   "outputs": [
    {
     "data": {
      "text/html": [
       "<div>\n",
       "<style scoped>\n",
       "    .dataframe tbody tr th:only-of-type {\n",
       "        vertical-align: middle;\n",
       "    }\n",
       "\n",
       "    .dataframe tbody tr th {\n",
       "        vertical-align: top;\n",
       "    }\n",
       "\n",
       "    .dataframe thead th {\n",
       "        text-align: right;\n",
       "    }\n",
       "</style>\n",
       "<table border=\"1\" class=\"dataframe\">\n",
       "  <thead>\n",
       "    <tr style=\"text-align: right;\">\n",
       "      <th>Landing_Region</th>\n",
       "      <th>ASDS</th>\n",
       "      <th>None</th>\n",
       "      <th>Ocean</th>\n",
       "      <th>RTLS</th>\n",
       "    </tr>\n",
       "    <tr>\n",
       "      <th>LandingPad</th>\n",
       "      <th></th>\n",
       "      <th></th>\n",
       "      <th></th>\n",
       "      <th></th>\n",
       "    </tr>\n",
       "  </thead>\n",
       "  <tbody>\n",
       "    <tr>\n",
       "      <th>LandingPad1</th>\n",
       "      <td>2</td>\n",
       "      <td>0</td>\n",
       "      <td>0</td>\n",
       "      <td>0</td>\n",
       "    </tr>\n",
       "    <tr>\n",
       "      <th>LandingPad2</th>\n",
       "      <td>35</td>\n",
       "      <td>0</td>\n",
       "      <td>0</td>\n",
       "      <td>0</td>\n",
       "    </tr>\n",
       "    <tr>\n",
       "      <th>LandingPad3</th>\n",
       "      <td>0</td>\n",
       "      <td>0</td>\n",
       "      <td>0</td>\n",
       "      <td>13</td>\n",
       "    </tr>\n",
       "    <tr>\n",
       "      <th>LandingPad4</th>\n",
       "      <td>12</td>\n",
       "      <td>0</td>\n",
       "      <td>0</td>\n",
       "      <td>0</td>\n",
       "    </tr>\n",
       "    <tr>\n",
       "      <th>LandingPad5</th>\n",
       "      <td>0</td>\n",
       "      <td>0</td>\n",
       "      <td>0</td>\n",
       "      <td>2</td>\n",
       "    </tr>\n",
       "    <tr>\n",
       "      <th>NoLandingPad</th>\n",
       "      <td>0</td>\n",
       "      <td>19</td>\n",
       "      <td>7</td>\n",
       "      <td>0</td>\n",
       "    </tr>\n",
       "  </tbody>\n",
       "</table>\n",
       "</div>"
      ],
      "text/plain": [
       "Landing_Region  ASDS  None  Ocean  RTLS\n",
       "LandingPad                             \n",
       "LandingPad1        2     0      0     0\n",
       "LandingPad2       35     0      0     0\n",
       "LandingPad3        0     0      0    13\n",
       "LandingPad4       12     0      0     0\n",
       "LandingPad5        0     0      0     2\n",
       "NoLandingPad       0    19      7     0"
      ]
     },
     "execution_count": 17,
     "metadata": {},
     "output_type": "execute_result"
    }
   ],
   "source": [
    "pd.crosstab(df[\"LandingPad\"], df[\"Landing_Region\"])"
   ]
  },
  {
   "cell_type": "markdown",
   "metadata": {},
   "source": [
    "The contingency table above showcases that each LandingPad is asscociated with atleast one LandingRegion. Only when there is no Landing Pad, the rocket landed on either the Ocean or crashed i.e., landed nowhere.\n",
    "\n",
    "This means that we can easily deduct LandingPad as a fetaure as we already saw that it has a strong correlation with Landing Region."
   ]
  },
  {
   "cell_type": "markdown",
   "metadata": {},
   "source": [
    "### Pearson correlation heatmap with p values\n",
    "**Boolean variables:**\n",
    "1. GridFins\n",
    "2. Legs\n",
    "3. Reused"
   ]
  },
  {
   "cell_type": "code",
   "execution_count": 18,
   "metadata": {},
   "outputs": [
    {
     "data": {
      "image/png": "[encoded data removed]",
      "text/plain": [
       "<Figure size 1400x600 with 4 Axes>"
      ]
     },
     "metadata": {},
     "output_type": "display_data"
    }
   ],
   "source": [
    "bool_col = [\"GridFins\", \"Legs\", \"Reused\"]\n",
    "plot_corr_hmap(df, column_names= bool_col, target = 'Landing_Outcome')"
   ]
  },
  {
   "cell_type": "markdown",
   "metadata": {},
   "source": [
    "GridFins, Legs and Reused have statistically significant relationship with the target variable-Landing_Outcome. GridFins and Legs are also highly correlated (90%) to each other. So, to avoid overfitting, we can drop one variable.\n",
    "As Legs show stronger correlation with Landing_Outcome, we can drop the GridFins and take Legs instead. On the other hand, the correlation of Reused to Landing_Outcome is very poor, so we drop that too. \n",
    "\n",
    "If we are dropping the variable Resued, then we also have to neglect the Reused Count. Because, the number of times a rocket has been reused only matters when we consider if the rocket is being resued or not. And if the rocket lands succesfully, only then we can reuse the rocket on multiple occasions. So, we can drop both Reused and ReusedCount variables. "
   ]
  },
  {
   "cell_type": "markdown",
   "metadata": {},
   "source": [
    "**Numeric Variables**\n",
    "1. PayloadMass\n",
    "2. Flights\n",
    "3. Block"
   ]
  },
  {
   "cell_type": "code",
   "execution_count": 19,
   "metadata": {},
   "outputs": [
    {
     "data": {
      "image/png": "[encoded data removed]",
      "text/plain": [
       "<Figure size 1400x600 with 4 Axes>"
      ]
     },
     "metadata": {},
     "output_type": "display_data"
    }
   ],
   "source": [
    "numerical_col = [\"PayloadMass\", \"Block\"]\n",
    "plot_corr_hmap(df, column_names= numerical_col, target = 'Landing_Outcome')"
   ]
  },
  {
   "cell_type": "markdown",
   "metadata": {},
   "source": [
    "Block has statistically significant correlation (42%) with Landing_Outcome whereas PayloadMass seems to have no correlation with it.\n",
    "So, we can drop PayloadMass as a feature."
   ]
  },
  {
   "cell_type": "markdown",
   "metadata": {},
   "source": [
    "### Final feature set"
   ]
  },
  {
   "cell_type": "code",
   "execution_count": 20,
   "metadata": {},
   "outputs": [
    {
     "data": {
      "text/html": [
       "<div>\n",
       "<style scoped>\n",
       "    .dataframe tbody tr th:only-of-type {\n",
       "        vertical-align: middle;\n",
       "    }\n",
       "\n",
       "    .dataframe tbody tr th {\n",
       "        vertical-align: top;\n",
       "    }\n",
       "\n",
       "    .dataframe thead th {\n",
       "        text-align: right;\n",
       "    }\n",
       "</style>\n",
       "<table border=\"1\" class=\"dataframe\">\n",
       "  <thead>\n",
       "    <tr style=\"text-align: right;\">\n",
       "      <th></th>\n",
       "      <th>Orbit</th>\n",
       "      <th>Legs</th>\n",
       "      <th>Block</th>\n",
       "      <th>Landing_Outcome</th>\n",
       "      <th>Landing_Region</th>\n",
       "    </tr>\n",
       "  </thead>\n",
       "  <tbody>\n",
       "    <tr>\n",
       "      <th>0</th>\n",
       "      <td>LEO</td>\n",
       "      <td>False</td>\n",
       "      <td>1</td>\n",
       "      <td>0</td>\n",
       "      <td>None</td>\n",
       "    </tr>\n",
       "    <tr>\n",
       "      <th>1</th>\n",
       "      <td>LEO</td>\n",
       "      <td>False</td>\n",
       "      <td>1</td>\n",
       "      <td>0</td>\n",
       "      <td>None</td>\n",
       "    </tr>\n",
       "    <tr>\n",
       "      <th>2</th>\n",
       "      <td>ISS</td>\n",
       "      <td>False</td>\n",
       "      <td>1</td>\n",
       "      <td>0</td>\n",
       "      <td>None</td>\n",
       "    </tr>\n",
       "    <tr>\n",
       "      <th>3</th>\n",
       "      <td>PO</td>\n",
       "      <td>False</td>\n",
       "      <td>1</td>\n",
       "      <td>0</td>\n",
       "      <td>Ocean</td>\n",
       "    </tr>\n",
       "    <tr>\n",
       "      <th>4</th>\n",
       "      <td>GTO</td>\n",
       "      <td>False</td>\n",
       "      <td>1</td>\n",
       "      <td>0</td>\n",
       "      <td>None</td>\n",
       "    </tr>\n",
       "  </tbody>\n",
       "</table>\n",
       "</div>"
      ],
      "text/plain": [
       "  Orbit   Legs  Block  Landing_Outcome Landing_Region\n",
       "0   LEO  False      1                0           None\n",
       "1   LEO  False      1                0           None\n",
       "2   ISS  False      1                0           None\n",
       "3    PO  False      1                0          Ocean\n",
       "4   GTO  False      1                0           None"
      ]
     },
     "execution_count": 20,
     "metadata": {},
     "output_type": "execute_result"
    }
   ],
   "source": [
    "feature_set = df.drop(['FlightNumber','PayloadMass','Reused','ReusedCount','GridFins','LandingPad','LaunchSite'], axis=1)\n",
    "feature_set.head()"
   ]
  },
  {
   "cell_type": "code",
   "execution_count": 21,
   "metadata": {},
   "outputs": [
    {
     "data": {
      "text/plain": [
       "(Orbit              object\n",
       " Legs                 bool\n",
       " Block               int64\n",
       " Landing_Outcome     int64\n",
       " Landing_Region     object\n",
       " dtype: object,\n",
       " Index(['Orbit', 'Legs', 'Block', 'Landing_Outcome', 'Landing_Region'], dtype='object'))"
      ]
     },
     "execution_count": 21,
     "metadata": {},
     "output_type": "execute_result"
    }
   ],
   "source": [
    "feature_set.dtypes, feature_set.columns"
   ]
  },
  {
   "cell_type": "code",
   "execution_count": 22,
   "metadata": {},
   "outputs": [],
   "source": [
    "dummy_columns = ['Orbit','Landing_Region']"
   ]
  },
  {
   "cell_type": "code",
   "execution_count": 23,
   "metadata": {},
   "outputs": [],
   "source": [
    "def dummies(feature_set, column_names):\n",
    "    for icol in column_names:\n",
    "        dummy = pd.get_dummies(feature_set[icol])\n",
    "        feature_set = feature_set.join(dummy)\n",
    "    return feature_set"
   ]
  },
  {
   "cell_type": "code",
   "execution_count": 24,
   "metadata": {},
   "outputs": [
    {
     "data": {
      "text/html": [
       "<div>\n",
       "<style scoped>\n",
       "    .dataframe tbody tr th:only-of-type {\n",
       "        vertical-align: middle;\n",
       "    }\n",
       "\n",
       "    .dataframe tbody tr th {\n",
       "        vertical-align: top;\n",
       "    }\n",
       "\n",
       "    .dataframe thead th {\n",
       "        text-align: right;\n",
       "    }\n",
       "</style>\n",
       "<table border=\"1\" class=\"dataframe\">\n",
       "  <thead>\n",
       "    <tr style=\"text-align: right;\">\n",
       "      <th></th>\n",
       "      <th>Orbit</th>\n",
       "      <th>Legs</th>\n",
       "      <th>Block</th>\n",
       "      <th>Landing_Outcome</th>\n",
       "      <th>Landing_Region</th>\n",
       "      <th>ES-L1</th>\n",
       "      <th>GEO</th>\n",
       "      <th>GTO</th>\n",
       "      <th>HEO</th>\n",
       "      <th>ISS</th>\n",
       "      <th>LEO</th>\n",
       "      <th>MEO</th>\n",
       "      <th>PO</th>\n",
       "      <th>SO</th>\n",
       "      <th>SSO</th>\n",
       "      <th>VLEO</th>\n",
       "      <th>ASDS</th>\n",
       "      <th>None</th>\n",
       "      <th>Ocean</th>\n",
       "      <th>RTLS</th>\n",
       "    </tr>\n",
       "  </thead>\n",
       "  <tbody>\n",
       "    <tr>\n",
       "      <th>0</th>\n",
       "      <td>LEO</td>\n",
       "      <td>False</td>\n",
       "      <td>1</td>\n",
       "      <td>0</td>\n",
       "      <td>None</td>\n",
       "      <td>0</td>\n",
       "      <td>0</td>\n",
       "      <td>0</td>\n",
       "      <td>0</td>\n",
       "      <td>0</td>\n",
       "      <td>1</td>\n",
       "      <td>0</td>\n",
       "      <td>0</td>\n",
       "      <td>0</td>\n",
       "      <td>0</td>\n",
       "      <td>0</td>\n",
       "      <td>0</td>\n",
       "      <td>1</td>\n",
       "      <td>0</td>\n",
       "      <td>0</td>\n",
       "    </tr>\n",
       "    <tr>\n",
       "      <th>1</th>\n",
       "      <td>LEO</td>\n",
       "      <td>False</td>\n",
       "      <td>1</td>\n",
       "      <td>0</td>\n",
       "      <td>None</td>\n",
       "      <td>0</td>\n",
       "      <td>0</td>\n",
       "      <td>0</td>\n",
       "      <td>0</td>\n",
       "      <td>0</td>\n",
       "      <td>1</td>\n",
       "      <td>0</td>\n",
       "      <td>0</td>\n",
       "      <td>0</td>\n",
       "      <td>0</td>\n",
       "      <td>0</td>\n",
       "      <td>0</td>\n",
       "      <td>1</td>\n",
       "      <td>0</td>\n",
       "      <td>0</td>\n",
       "    </tr>\n",
       "    <tr>\n",
       "      <th>2</th>\n",
       "      <td>ISS</td>\n",
       "      <td>False</td>\n",
       "      <td>1</td>\n",
       "      <td>0</td>\n",
       "      <td>None</td>\n",
       "      <td>0</td>\n",
       "      <td>0</td>\n",
       "      <td>0</td>\n",
       "      <td>0</td>\n",
       "      <td>1</td>\n",
       "      <td>0</td>\n",
       "      <td>0</td>\n",
       "      <td>0</td>\n",
       "      <td>0</td>\n",
       "      <td>0</td>\n",
       "      <td>0</td>\n",
       "      <td>0</td>\n",
       "      <td>1</td>\n",
       "      <td>0</td>\n",
       "      <td>0</td>\n",
       "    </tr>\n",
       "    <tr>\n",
       "      <th>3</th>\n",
       "      <td>PO</td>\n",
       "      <td>False</td>\n",
       "      <td>1</td>\n",
       "      <td>0</td>\n",
       "      <td>Ocean</td>\n",
       "      <td>0</td>\n",
       "      <td>0</td>\n",
       "      <td>0</td>\n",
       "      <td>0</td>\n",
       "      <td>0</td>\n",
       "      <td>0</td>\n",
       "      <td>0</td>\n",
       "      <td>1</td>\n",
       "      <td>0</td>\n",
       "      <td>0</td>\n",
       "      <td>0</td>\n",
       "      <td>0</td>\n",
       "      <td>0</td>\n",
       "      <td>1</td>\n",
       "      <td>0</td>\n",
       "    </tr>\n",
       "    <tr>\n",
       "      <th>4</th>\n",
       "      <td>GTO</td>\n",
       "      <td>False</td>\n",
       "      <td>1</td>\n",
       "      <td>0</td>\n",
       "      <td>None</td>\n",
       "      <td>0</td>\n",
       "      <td>0</td>\n",
       "      <td>1</td>\n",
       "      <td>0</td>\n",
       "      <td>0</td>\n",
       "      <td>0</td>\n",
       "      <td>0</td>\n",
       "      <td>0</td>\n",
       "      <td>0</td>\n",
       "      <td>0</td>\n",
       "      <td>0</td>\n",
       "      <td>0</td>\n",
       "      <td>1</td>\n",
       "      <td>0</td>\n",
       "      <td>0</td>\n",
       "    </tr>\n",
       "  </tbody>\n",
       "</table>\n",
       "</div>"
      ],
      "text/plain": [
       "  Orbit   Legs  Block  Landing_Outcome Landing_Region  ES-L1  GEO  GTO  HEO  \\\n",
       "0   LEO  False      1                0           None      0    0    0    0   \n",
       "1   LEO  False      1                0           None      0    0    0    0   \n",
       "2   ISS  False      1                0           None      0    0    0    0   \n",
       "3    PO  False      1                0          Ocean      0    0    0    0   \n",
       "4   GTO  False      1                0           None      0    0    1    0   \n",
       "\n",
       "   ISS  LEO  MEO  PO  SO  SSO  VLEO  ASDS  None  Ocean  RTLS  \n",
       "0    0    1    0   0   0    0     0     0     1      0     0  \n",
       "1    0    1    0   0   0    0     0     0     1      0     0  \n",
       "2    1    0    0   0   0    0     0     0     1      0     0  \n",
       "3    0    0    0   1   0    0     0     0     0      1     0  \n",
       "4    0    0    0   0   0    0     0     0     1      0     0  "
      ]
     },
     "execution_count": 24,
     "metadata": {},
     "output_type": "execute_result"
    }
   ],
   "source": [
    "dummy_columns = ['Orbit','Landing_Region']\n",
    "feature_set = dummies(feature_set, column_names = dummy_columns)\n",
    "feature_set.head()"
   ]
  },
  {
   "cell_type": "code",
   "execution_count": 25,
   "metadata": {},
   "outputs": [],
   "source": [
    "feature_set.drop(['Orbit','Landing_Region'], axis = 1, inplace = True)"
   ]
  },
  {
   "cell_type": "code",
   "execution_count": 26,
   "metadata": {},
   "outputs": [
    {
     "data": {
      "text/html": [
       "<div>\n",
       "<style scoped>\n",
       "    .dataframe tbody tr th:only-of-type {\n",
       "        vertical-align: middle;\n",
       "    }\n",
       "\n",
       "    .dataframe tbody tr th {\n",
       "        vertical-align: top;\n",
       "    }\n",
       "\n",
       "    .dataframe thead th {\n",
       "        text-align: right;\n",
       "    }\n",
       "</style>\n",
       "<table border=\"1\" class=\"dataframe\">\n",
       "  <thead>\n",
       "    <tr style=\"text-align: right;\">\n",
       "      <th></th>\n",
       "      <th>Legs</th>\n",
       "      <th>Block</th>\n",
       "      <th>Landing_Outcome</th>\n",
       "      <th>ES-L1</th>\n",
       "      <th>GEO</th>\n",
       "      <th>GTO</th>\n",
       "      <th>HEO</th>\n",
       "      <th>ISS</th>\n",
       "      <th>LEO</th>\n",
       "      <th>MEO</th>\n",
       "      <th>PO</th>\n",
       "      <th>SO</th>\n",
       "      <th>SSO</th>\n",
       "      <th>VLEO</th>\n",
       "      <th>ASDS</th>\n",
       "      <th>None</th>\n",
       "      <th>Ocean</th>\n",
       "      <th>RTLS</th>\n",
       "    </tr>\n",
       "  </thead>\n",
       "  <tbody>\n",
       "    <tr>\n",
       "      <th>0</th>\n",
       "      <td>False</td>\n",
       "      <td>1</td>\n",
       "      <td>0</td>\n",
       "      <td>0</td>\n",
       "      <td>0</td>\n",
       "      <td>0</td>\n",
       "      <td>0</td>\n",
       "      <td>0</td>\n",
       "      <td>1</td>\n",
       "      <td>0</td>\n",
       "      <td>0</td>\n",
       "      <td>0</td>\n",
       "      <td>0</td>\n",
       "      <td>0</td>\n",
       "      <td>0</td>\n",
       "      <td>1</td>\n",
       "      <td>0</td>\n",
       "      <td>0</td>\n",
       "    </tr>\n",
       "    <tr>\n",
       "      <th>1</th>\n",
       "      <td>False</td>\n",
       "      <td>1</td>\n",
       "      <td>0</td>\n",
       "      <td>0</td>\n",
       "      <td>0</td>\n",
       "      <td>0</td>\n",
       "      <td>0</td>\n",
       "      <td>0</td>\n",
       "      <td>1</td>\n",
       "      <td>0</td>\n",
       "      <td>0</td>\n",
       "      <td>0</td>\n",
       "      <td>0</td>\n",
       "      <td>0</td>\n",
       "      <td>0</td>\n",
       "      <td>1</td>\n",
       "      <td>0</td>\n",
       "      <td>0</td>\n",
       "    </tr>\n",
       "    <tr>\n",
       "      <th>2</th>\n",
       "      <td>False</td>\n",
       "      <td>1</td>\n",
       "      <td>0</td>\n",
       "      <td>0</td>\n",
       "      <td>0</td>\n",
       "      <td>0</td>\n",
       "      <td>0</td>\n",
       "      <td>1</td>\n",
       "      <td>0</td>\n",
       "      <td>0</td>\n",
       "      <td>0</td>\n",
       "      <td>0</td>\n",
       "      <td>0</td>\n",
       "      <td>0</td>\n",
       "      <td>0</td>\n",
       "      <td>1</td>\n",
       "      <td>0</td>\n",
       "      <td>0</td>\n",
       "    </tr>\n",
       "    <tr>\n",
       "      <th>3</th>\n",
       "      <td>False</td>\n",
       "      <td>1</td>\n",
       "      <td>0</td>\n",
       "      <td>0</td>\n",
       "      <td>0</td>\n",
       "      <td>0</td>\n",
       "      <td>0</td>\n",
       "      <td>0</td>\n",
       "      <td>0</td>\n",
       "      <td>0</td>\n",
       "      <td>1</td>\n",
       "      <td>0</td>\n",
       "      <td>0</td>\n",
       "      <td>0</td>\n",
       "      <td>0</td>\n",
       "      <td>0</td>\n",
       "      <td>1</td>\n",
       "      <td>0</td>\n",
       "    </tr>\n",
       "    <tr>\n",
       "      <th>4</th>\n",
       "      <td>False</td>\n",
       "      <td>1</td>\n",
       "      <td>0</td>\n",
       "      <td>0</td>\n",
       "      <td>0</td>\n",
       "      <td>1</td>\n",
       "      <td>0</td>\n",
       "      <td>0</td>\n",
       "      <td>0</td>\n",
       "      <td>0</td>\n",
       "      <td>0</td>\n",
       "      <td>0</td>\n",
       "      <td>0</td>\n",
       "      <td>0</td>\n",
       "      <td>0</td>\n",
       "      <td>1</td>\n",
       "      <td>0</td>\n",
       "      <td>0</td>\n",
       "    </tr>\n",
       "  </tbody>\n",
       "</table>\n",
       "</div>"
      ],
      "text/plain": [
       "    Legs  Block  Landing_Outcome  ES-L1  GEO  GTO  HEO  ISS  LEO  MEO  PO  SO  \\\n",
       "0  False      1                0      0    0    0    0    0    1    0   0   0   \n",
       "1  False      1                0      0    0    0    0    0    1    0   0   0   \n",
       "2  False      1                0      0    0    0    0    1    0    0   0   0   \n",
       "3  False      1                0      0    0    0    0    0    0    0   1   0   \n",
       "4  False      1                0      0    0    1    0    0    0    0   0   0   \n",
       "\n",
       "   SSO  VLEO  ASDS  None  Ocean  RTLS  \n",
       "0    0     0     0     1      0     0  \n",
       "1    0     0     0     1      0     0  \n",
       "2    0     0     0     1      0     0  \n",
       "3    0     0     0     0      1     0  \n",
       "4    0     0     0     1      0     0  "
      ]
     },
     "execution_count": 26,
     "metadata": {},
     "output_type": "execute_result"
    }
   ],
   "source": [
    "feature_set.head()"
   ]
  },
  {
   "cell_type": "code",
   "execution_count": 27,
   "metadata": {},
   "outputs": [],
   "source": [
    "feature_set.to_csv('Feature_set.csv', index=False)"
   ]
  }
 ],
 "metadata": {
  "kernelspec": {
   "display_name": "Python 3.9.13 ('ML')",
   "language": "python",
   "name": "python3"
  },
  "language_info": {
   "codemirror_mode": {
    "name": "ipython",
    "version": 3
   },
   "file_extension": ".py",
   "mimetype": "text/x-python",
   "name": "python",
   "nbconvert_exporter": "python",
   "pygments_lexer": "ipython3",
   "version": "3.9.13"
  },
  "orig_nbformat": 4,
  "vscode": {
   "interpreter": {
    "hash": "972bcfe721b9e3b452b0b17f77d7cd019ab842cf15852cf2f7ab7ce86c451005"
   }
  }
 },
 "nbformat": 4,
 "nbformat_minor": 2
}
